{
 "cells": [
  {
   "cell_type": "markdown",
   "metadata": {},
   "source": [
    "# Basic Conception\n",
    "\n",
    "This notebook follows SpikingJelly's [Basic Conception tutorial](https://spikingjelly.readthedocs.io/zh-cn/0.0.0.0.14/activation_based_en/basic_concept.html)."
   ]
  },
  {
   "cell_type": "markdown",
   "metadata": {},
   "source": [
    "## Activation-based Representation\n",
    "\n",
    "`spikingjelly.activation_based` uses tensors with 0s or 1s to represent spikes. In this example, a value is transformed into 0 or 1 depending on whether or not it reaches a predefined threshold value."
   ]
  },
  {
   "cell_type": "code",
   "execution_count": 1,
   "metadata": {},
   "outputs": [
    {
     "name": "stdout",
     "output_type": "stream",
     "text": [
      "Spike =  tensor([1., 1., 1., 1., 1., 0., 1., 0.])\n"
     ]
    }
   ],
   "source": [
    "import torch\n",
    "\n",
    "v = torch.rand((8))\n",
    "v_th = 0.5\n",
    "spike = (v >= v_th).to(v)\n",
    "print(\"Spike = \", spike)"
   ]
  },
  {
   "cell_type": "markdown",
   "metadata": {},
   "source": [
    "## Step \n",
    "\n",
    "`spikingjelly.activation_based` supports two formats of data:\n",
    "\n",
    "- **Single-step (\"s\"):** `shape = (N, *)` where `N` is the batch dimension and `*` is any extra dimensions\n",
    "- **Multi-step (\"s\"):** `shape = (T, N, *)` where `T` is the time-step dimension\n",
    "\n"
   ]
  },
  {
   "cell_type": "code",
   "execution_count": 2,
   "metadata": {},
   "outputs": [
    {
     "name": "stdout",
     "output_type": "stream",
     "text": [
      "WARNING: Prophesee Dataset Toolbox could not be found!\n",
      "         Only Prophesee DVS demo will not run properly.\n",
      "         Please install it from https://github.com/prophesee-ai/prophesee-automotive-dataset-toolbox\n"
     ]
    }
   ],
   "source": [
    "import torch\n",
    "from spikingjelly.activation_based import neuron\n",
    "\n",
    "net = neuron.IFNode(step_mode='m')\n",
    "# 'm' is the multi-step mode\n",
    "net.step_mode = 's'\n",
    "# 's' is the single-step mode"
   ]
  },
  {
   "cell_type": "markdown",
   "metadata": {},
   "source": [
    "To input a sequence data with `shape = (T, N, *)` to a single-step module, we must feed it as `T` tensors with shape `shape = (N, *)`"
   ]
  },
  {
   "cell_type": "code",
   "execution_count": 3,
   "metadata": {},
   "outputs": [],
   "source": [
    "import torch\n",
    "from spikingjelly.activation_based import neuron, functional\n",
    "\n",
    "net_s = neuron.IFNode(step_mode='s')\n",
    "T, N, C, H, W = 4, 1, 3, 8, 8\n",
    "\n",
    "x_seq = torch.rand((T, N, C, H, W))\n",
    "\n",
    "########\n",
    "# This #\n",
    "########\n",
    "y_seq = []\n",
    "for t in range(T):\n",
    "    x = x_seq[t] # x.shape = (N, C, H, W)\n",
    "    y = net_s(x) # y.shape = (N, C, H, W)\n",
    "    y_seq.append(y.unsqueeze(0))\n",
    "\n",
    "y_seq = torch.cat(y_seq) # y_seq.shape = (T, N, C, H, W)\n",
    "\n",
    "\n",
    "#########################\n",
    "# Is equivalent to this #\n",
    "# #######################\n",
    "y_seq = functional.multi_step_forward(x_seq=x_seq, single_step_module=net_s) # y_seq.shape = (T, N, C, H, W)\n",
    "\n",
    "\n",
    "###################################################\n",
    "# But it's easier to just use a multi-step module #\n",
    "###################################################\n",
    "net_m = neuron.IFNode(step_mode='m')\n",
    "y_seq = net_m(x_seq) # y_seq.shape = (T, N, C, H, W)"
   ]
  },
  {
   "cell_type": "markdown",
   "metadata": {},
   "source": [
    "## Hidden States\n",
    "\n",
    "Neurons and other SNN modules have hidden states which, together with the input data, determine their outputs at particular time-step. We represent the hidden-state at timestep $t$ as $H(t)$\n",
    "\n",
    "$$Y(t) = f(X(t), H(t-1))$$\n",
    "\n",
    "As such, the state of the network should be reset between the processing of different batches"
   ]
  },
  {
   "cell_type": "code",
   "execution_count": null,
   "metadata": {},
   "outputs": [
    {
     "name": "stdout",
     "output_type": "stream",
     "text": [
      "IFNode(\n",
      "  v_threshold=1.0, v_reset=0.0, detach_reset=False, step_mode=s, backend=torch\n",
      "  (surrogate_function): Sigmoid(alpha=4.0, spiking=True)\n",
      ")\n",
      "- Start - \n",
      "    v = 0.0\n",
      "\n",
      "- First pass - \n",
      "    x = tensor([0.0609, 0.4822, 0.7468, 0.6863])\n",
      "    y = tensor([0., 0., 0., 0.]);    \n",
      "    v = tensor([0.0609, 0.4822, 0.7468, 0.6863])\n",
      "\n",
      "- Reset - \n",
      "    v = 0.0\n",
      "\n",
      "- Second pass - \n",
      "    x = tensor([0.8614, 0.6856, 0.1082, 0.2517, 0.1276, 0.9547, 0.7902, 0.0775])\n",
      "    y = tensor([0., 0., 0., 0., 0., 0., 0., 0.]);    \n",
      "    v = tensor([0.8614, 0.6856, 0.1082, 0.2517, 0.1276, 0.9547, 0.7902, 0.0775])\n",
      "\n"
     ]
    }
   ],
   "source": [
    "import torch\n",
    "from spikingjelly.activation_based import neuron, functional\n",
    "\n",
    "def print_checkpoint(net_s: neuron.IFNode, checkpoint_name: str, x=None, y=None):\n",
    "    s = f\"- {checkpoint_name} - \"\n",
    "    if not x is None:\n",
    "        s += f\"\\n    x = {x}\"\n",
    "    if not y is None:\n",
    "        s += f\"\\n    y = {y};    \"\n",
    "    print(s + f\"\\n    v = {net_s.v}\\n\")\n",
    "\n",
    "net_s = neuron.IFNode(step_mode='s')\n",
    "\n",
    "print(net_s)\n",
    "print_checkpoint(net_s, \"Start\")\n",
    "\n",
    "x = torch.rand((4))\n",
    "y = net_s(x)\n",
    "print_checkpoint(net_s, \"First pass\", x, y)\n",
    "\n",
    "functional.reset_net(net_s) # Resets all stateful modules in network. net_s.reset() only resets net_s\n",
    "print_checkpoint(net_s, \"Reset\")\n",
    "\n",
    "x = torch.rand(8)\n",
    "y = net_s(x)\n",
    "print_checkpoint(net_s, \"Second pass\", x, y)"
   ]
  },
  {
   "cell_type": "markdown",
   "metadata": {},
   "source": [
    "## Propagation Patterns\n",
    "\n",
    "Continue from here!"
   ]
  }
 ],
 "metadata": {
  "kernelspec": {
   "display_name": ".venv",
   "language": "python",
   "name": "python3"
  },
  "language_info": {
   "codemirror_mode": {
    "name": "ipython",
    "version": 3
   },
   "file_extension": ".py",
   "mimetype": "text/x-python",
   "name": "python",
   "nbconvert_exporter": "python",
   "pygments_lexer": "ipython3",
   "version": "3.10.12"
  }
 },
 "nbformat": 4,
 "nbformat_minor": 2
}
